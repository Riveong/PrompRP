{
 "cells": [
  {
   "cell_type": "code",
   "execution_count": 8,
   "id": "4905724b",
   "metadata": {},
   "outputs": [],
   "source": [
    "import pandas as pd\n",
    "import os\n",
    "from openai import OpenAI"
   ]
  },
  {
   "cell_type": "markdown",
   "id": "b4e497c7",
   "metadata": {},
   "source": [
    "# Data Load"
   ]
  },
  {
   "cell_type": "code",
   "execution_count": 9,
   "id": "c6fe7edc",
   "metadata": {},
   "outputs": [
    {
     "name": "stdout",
     "output_type": "stream",
     "text": [
      "Dataset shape: (53043, 3)\n",
      "\n",
      "First few rows:\n",
      "   Unnamed: 0                                          statement   status\n",
      "0           0                                         oh my gosh  Anxiety\n",
      "1           1  trouble sleeping, confused mind, restless hear...  Anxiety\n",
      "2           2  All wrong, back off dear, forward doubt. Stay ...  Anxiety\n",
      "3           3  I've shifted my focus to something else but I'...  Anxiety\n",
      "4           4  I'm restless and restless, it's been a month n...  Anxiety\n",
      "\n",
      "Column info:\n",
      "<class 'pandas.core.frame.DataFrame'>\n",
      "RangeIndex: 53043 entries, 0 to 53042\n",
      "Data columns (total 3 columns):\n",
      " #   Column      Non-Null Count  Dtype \n",
      "---  ------      --------------  ----- \n",
      " 0   Unnamed: 0  53043 non-null  int64 \n",
      " 1   statement   52681 non-null  object\n",
      " 2   status      53043 non-null  object\n",
      "dtypes: int64(1), object(2)\n",
      "memory usage: 1.2+ MB\n",
      "None\n",
      "\n",
      "Missing values:\n",
      "Unnamed: 0      0\n",
      "statement     362\n",
      "status          0\n",
      "dtype: int64\n"
     ]
    }
   ],
   "source": [
    "# Load the mental health sentiment data\n",
    "data_path = './data.csv'\n",
    "anxiety_data = pd.read_csv(data_path)\n",
    "\n",
    "# Display basic information about the dataset\n",
    "print(f\"Dataset shape: {anxiety_data.shape}\")\n",
    "print(\"\\nFirst few rows:\")\n",
    "print(anxiety_data.head())\n",
    "\n",
    "# Check column names and data types\n",
    "print(\"\\nColumn info:\")\n",
    "print(anxiety_data.info())\n",
    "\n",
    "# Check for any missing values\n",
    "print(\"\\nMissing values:\")\n",
    "print(anxiety_data.isna().sum())"
   ]
  },
  {
   "cell_type": "markdown",
   "id": "861a251d",
   "metadata": {},
   "source": [
    "# display data"
   ]
  },
  {
   "cell_type": "code",
   "execution_count": 10,
   "id": "414d675a",
   "metadata": {},
   "outputs": [
    {
     "name": "stdout",
     "output_type": "stream",
     "text": [
      "Number of anxiety statements: 3888\n",
      "\n",
      "Sample anxiety statements:\n",
      "0                                           oh my gosh\n",
      "1    trouble sleeping, confused mind, restless hear...\n",
      "2    All wrong, back off dear, forward doubt. Stay ...\n",
      "3    I've shifted my focus to something else but I'...\n",
      "4    I'm restless and restless, it's been a month n...\n",
      "Name: statement, dtype: object\n",
      "\n",
      "Missing values in anxiety statements: 47\n"
     ]
    }
   ],
   "source": [
    "# Filter for anxiety statements only\n",
    "anxiety_statements = anxiety_data[anxiety_data['status'] == 'Anxiety']['statement']\n",
    "\n",
    "# Display the number of anxiety statements found\n",
    "print(f\"Number of anxiety statements: {len(anxiety_statements)}\")\n",
    "\n",
    "# Display the first few anxiety statements\n",
    "print(\"\\nSample anxiety statements:\")\n",
    "print(anxiety_statements.head())\n",
    "\n",
    "# Check for any missing values in the filtered data\n",
    "print(f\"\\nMissing values in anxiety statements: {anxiety_statements.isna().sum()}\")"
   ]
  },
  {
   "cell_type": "markdown",
   "id": "a3364a7f",
   "metadata": {},
   "source": [
    "# Prompt engineering on progress..."
   ]
  },
  {
   "cell_type": "markdown",
   "id": "5f5a9292",
   "metadata": {},
   "source": [
    "adding random so the model will be more anxious overtime >:D"
   ]
  },
  {
   "cell_type": "code",
   "execution_count": 11,
   "id": "9d29082a",
   "metadata": {},
   "outputs": [
    {
     "data": {
      "text/plain": [
       "[\"Is face burning sensations something that can be attributed to anxiety? My life has been a big mess since August. A dizziness episode triggered my health anxiety. I suspected MS - did an MRI, an SSEP - they found nothing. Then, I moved onto ALS. Nothing again. Several neurologists said I had nothing but anxiety, and still I kept thinking the opposite.\\n\\nIn January I woke up with my right side tingling/pins and needles, followed by a toothache. Of course, I googled these symptoms and found Trigeminal Neuralgia - a condition that checks all the boxes of a hypochondriac nightmare.\\n\\nI had a cavity, did a root canal, the toothache disappeared. But the tingling is still here and around my eye I have been dealing with burning sensations - eyelid, eyelashes, inside the eye. It's not unbearable and maddening like those who have trigeminal neuralgia say it is, but it's really uncomfortable.\\n\\nI've seen two major neurosurgeons about this, they said I didn't have trigeminal neuralgia. I don't know, I can't find peace, I'm always startled, nervous and expecting to be hit by a major wave of unbearable pain. \\n\\nI really don't know anything anymore. Don't know if is my HA causing this, or if in fact I have this condition but doctors are simply being dismissive. One thing that makes me believe that my anxiety is the root is that the burning gets tuned down/disappears when I'm distracted. But it hits me again when I'm alone at home working, for instance.\\n\\nOh well, long post already. Anyone with similar experiences? Thank you\",\n",
       " \"I'm freaking out All my worst fears have been realized. I have had strep throat (confirmed by doctor) for 3 weeks and now I just tested positive for covid (rapid antigen). I spent the night at my partner's and now I'm terrified I got them sick too. They just got over covid a month ago. I would never forgive myself if I got them sick.\\nI am staying in an air bnb rn because I've just lost my apartment and I'm supposed to catch a flight on friday to move back in with my family who lives an ocean away.\\nI don't know how this is going to affect my flight and my mental health. I feel physically and mentally ill. I just don't know what to do.\",\n",
       " \"Constantly feeling like I'm dying? I've gone to the ER so many times thinking I was dying of a heart attack when it was just terrible anxiety/panic attacks. I feel literally every bodily sensation and it puts me into a panic frenzy and makes me feel like it's my last couple of seconds on earth. I cannot handle this anymore. Is there anyway to stop this from happening? I've freaked myself out by feeling my seat-belt and even shirt touch my chest, etc. \",\n",
       " \"How do I know if its health anxiety or OCD? I obsess over my health A LOT right now. I got over my health anxiety once but now its back since a slight worry of my right hearing actually became true, I had a hearing problem in my right ear.\\n\\nWhile I still worry about these things I also worry about things that are wrong with me in general, psychological or not. I'm kind of worried now that my health anxiety might be OCD? I've heard that OCD is harder to treat. \\n\\nOCD is obsessive thoughts as well and I have those with my health. How do I know if it's just health anxiety or if its OCD? Thank you\",\n",
       " 'Struggling with fear of carcinogens everywhere  \\n\\nHello, just wondering if anyone has advice, info, anything relating to this would really be great; I have a problem with fear about contamination but mainly in the form of long-term damage, ie being exposed to a unknown carcinogen, or drinking water with lead, or exposure to anything that is deadly / harmful, but only through exposure over time.\\n\\nThis is mostly fueled by any story of \"new chemical used in products and only 5/10/20 years later people confirm it\\'s a carcinogen / otherwise dangerous\".\\n\\nBecause of this I get stressed out with chemical things like cleaning products, detergents, anything scented, general air pollutants, clothing dye, any drinking water, plastics touching food, heavily processed foods, and so much more. \\n\\n I\\'m struggling to get over it because these cases do happen, and I wouldn\\'t know there was a problem until it was too late; I can\\'t shake the feeling it is rational to at least have some skepticism... but I know it\\'s impossible to know about everything and I want to stop stressing out so much. any coping tips or advice would be great, thank you. ',\n",
       " 'On the verge of falling back into this Hey guys. So let me just start off with a bit of background. I’ve had health anxiety my entire life. I’m a 21 year old male and about a year ago, it for really really bad. Every. Single. Day for about 3 months I fears ALS, Brain Tumors, Stomach Cancer and Esophageal Cancer.  It was awful. Well I managed to get past that and I joined the army, finished my basic and job training schools and went home for the holidays.\\n\\nWell, the past few days I’ve been having some stomach discomfort and I was even in the hospital a week ago because of the pain (they told me it was just acid and the antacid they gave me seemed to fix the problem.) Now I’m extremely nervous, I’m so close to googling “stomach cancer symptoms” and I haven’t yet. I know if I do everything will come unraveled but I’m having trouble fighting this. What do I do?',\n",
       " 'I’m experiencing calf pain after a loonnnggg bus ride. DVT? Hi everyone, \\n\\nFirst of all, I’m a 27yo female who is pretty active and in general good health. I am taking oral contraceptives so I am at a higher risk of clots. I’ve been taking the same birth control pill for 10 years without any trouble. \\n\\nI recently went on a trip and was on a bus for 15 hours straight. I did walk around or stand up every few hours or so. I also had the seat next to me for myself so i was able to extend/raise my legs and stretch out. I was very hydrated during that trip. \\n\\nOnce I got to my destination, everything was okay. I had to get back on the bus to go home, which was only going to be 5 hours (the first one took so long due to weather/traffic). I walked around about half way through my return trip, but i did notice my lower legs started to hurt towards the end of my trip. Also, i admit, i definitely wasn’t drinking as much water as i probably should’ve. \\n\\nIt’s been 24 hours now and I’m experiencing mild pain in my lower left leg. My calf just seems crampy.  It hurts a little when i flex my toes up to the sky (that also hurts on the other leg as well). I do feel slight muscle spasms in my other leg but no pain. I have no noticeable swelling or warmth on my legs. The crampy feeling sort of extends to my thigh as well, but i do have sciatica so I’m not sure if that’s what I’m feeling. I can walk totally fine and have no pain when doing so. I mostly feel this pain when i am sitting or laying down. \\n\\nI’d love some advice on whether or not i should go to the ER to be safe or if it’s just likely my muscles are dehydrated and sore from being stuck in a relatively small area for a while. ',\n",
       " 'Crippling fear Hey guys, I’m posting this because I want to see if I’m the only one. My grandma passed on her hypochondria to me, and ever since I suffered a spinal injury my sophomore year of highschool I’ve been terrified of doctors visits and every little pain, ache, tingle, and spasm I get in my body. I went to a sports specialist for my back and he diagnosed me with a C5 fracture, and scoliosis. I can live with that. But after I became aware that my body is injured and no longer the same, I’ve been obsessed with the idea that I have cancer, a brain tumor, or MS. Usually it’s cancer that takes over my thoughts.\\n\\nMy thing is, I avoid the doctors office in every way possible. I HATE the idea of going to the doctor, being diagnosed, because to me my life is over at that point. I can usually talk myself through my panic episodes, but I usually seek the reassurance of others. I have a mole on my back and I’m convinced it’s changing, so every other week I ask my girlfriend if it’s changed and she says of course not. I can’t remember what it looked like as a kid, but I could’ve sworn it didn’t look like it does now. My anxiety is so bad I went to the doctor when I had a flu that wouldn’t go away, got chest x-rays to rule out pneumonia, and before my doctor told me the results I told him, “look, if I have cancer I don’t want to know, just don’t tell me” and he looked at me like I was crazy because the X-ray came back perfectly fine, just a common flu.\\n\\nI’ve avoided the doctors office for so long now that I feel like there HAS to be something wrong. Terminal. I know I should go, but even thinking about the idea makes me shutter with fear. A lot of the posts I read on here are about people that go to the doctor too much, but I wanted to see if there were people out there that are like me.',\n",
       " 'Feeling a little anxious today.',\n",
       " \"Canker sore in back of my throat = Crohn's disease 19 y/o male, I had my first canker sore last summer near my tonsils and now I have another one. I have always had problems with my stomach, docs gastroscopied me in 2016 because I had nausea and heartburn almost 24/7. Biopsies and everything came back normal, never gotten colonoscopied though. In my mind these canker sores are a symptom of crohns disease and it must mean I have it. I just can't figure out any other explanation than that thanks to hypochondria. My stomach problems were pretty bad years ago and I thought I had colon cancer or something like that. Nowadays I feel a lot better but the thing is that if something comes up that might be a symptom of IBD/Crohns/Colon cancer I almost instantly think I have it.\",\n",
       " 'Trying a new way of thinking. My day normally looks something like this...\\nOh man I\\'m dizzy. I wonder what that means. Any my left arm is weak. Is that a heart attack? Maybe a symptom of a small heart attack? Where did I get that bruse on my knee? Is that a sign of a blood clot? Should I go to the doctor again? Last time he told me to stop worrying about stuff like this. Is that a lump I\\'m the back of my head? Maybe that\\'s what\\'s causing my head ache... But what is the lump is another sign of a problem? Should I start documenting this? The doctor thinks I\\'m crazy but if I have all the symptoms with the times I had them he could surly run more tests. A friend I knew died for a blood clot that the doctors missed maybe my doctor missed something... etc\\n\\nRecently, I started asking my friends that don\\'t have anxiety how they deal with strange feelings in their body. Every single one of them says that they almost immediately dismiss the thought. I can\\'t even imagine what that feels like. I focus on a part of my body so much sometimes that I actually create pain that doesn\\'t exist. So I dug a little bit deeper and asked what happens if they were walking around one day and all of a sudden they noticed that their left arm was weak and tingly. Most of my friends with without anxiety said the same thing. I guess my arm is weak today. And then that\\'s it. If they have a headache or if they have a chest pain or if they have an upset stomach or if their leg hurts out of nowhere they just shrug it off and think oh I guess today I\\'m going to have a stomach ache or I guess I\\'m coming down with something or something to that nature. And then if it still hurts the next day they shrug it off again and only when it\\'s continuing to do it for like a week do they actually think I\\'ll maybe I should go to the doctor and have it looked at. But it\\'s not in a panicky kind of way it\\'s just kind of like almost annoyance.\\n\\nSo I\\'m going to try that method. \"Oh I guess I have a headache today\". And try to leave it at that. If it lasts a week, all the  talk to my doctor.\\n\\nHas anyone had success doing something like this? Like just changing the way you thought?',\n",
       " \"What things in your life did you increase/decrease to improve your anxiety? For example, I really want to walk 10k steps a day and reduce the amount of coffee/caffeine I drink. Just curious to see what others are doing because sometimes it's hard for me to see the small/simple things that can help with anxiety.\",\n",
       " \"Suspected lead contamination of sink and dishwasher. Should I be concerned? I needed to clean my car battery terminals, so I used some of my measuring cups to make a baking soda solution and scrubbed the battery with an old toothbrush. During the process, some of the copper sulfate and probably lead from the terminals made its way into the cups, so I rinsed them out and put them in the dishwasher for a couple cycles. I used a dish that was also in the dishwasher at the time later. \\n\\nIn hindsight it was an incredibly stupid thing to do, but now I'm wondering if I've contaminated my dishes, sink, and dishwasher with lead particles. I've ordered a lead self test kit, but I've been thinking about replacing my dishwasher and sink because of this. Am I just being paranoid, or should I be concerned?\",\n",
       " 'Breathing issues So on Thursday I got my first pack of ciggarettes and I smoked about 10-12cigs and my chest hurts and I’m having shortness of breathe could I have developed a terminal illness it’s scaring the crap out of me I’m never lighting another ciggarette again',\n",
       " \"I'm mute, stuck in a dream sheet. I flinch when the clink of time calls out to me. I wake up, restless\",\n",
       " 'Here from now on, my heart is restless',\n",
       " 'I’m trying to open up and am requesting some general advice. I’m nearly 16 years old, healthy and a girl. I’ve never suffered from anything like depression etc. \\n\\nBut recently my thoughts have been turning to horrible things. I get anxious about everything and everyday I’m battling with my mind to stay happy for the universe. I suffer bad when I’m ill from health anxiety because of my major fear of death. It’s just getting worse, I sit at night thinking ‘I don’t want to die’ and get really scared and nervous. And then I stress over school and negative thoughts overtake me. \\n\\nI struggle major when I’m ill, I can’t help myself but google my symptoms - it’s awful.\\n\\nMy parents don’t seem to get it, I tried opening up about my health anxiety and they just told me to get over it. It’s not as simple as that. And I’m scared to open up about everything else. Any advice? ',\n",
       " \"What's your longest hypervigilant episode? I've personally been in a state like this for about four months now (excluding a single day I felt normal again.) I know this isn't a super long time for some people though. What's your longest episode ever? \\n\\nI'm generally curious to see how many people are out there who have been stuck in a hypervigilant state with no rest.\",\n",
       " 'pregnancy scare [help] Okay so I was having sex with my girlfriend, I came and pulled out about 5 seconds later and my condom was half way up my penis. I came in it but I am still worried about getting my gf preggers because of all juices on the unprotected part that came out the side. (She’s on the pill also) am I good?!\\n\\n(I now realize the condom was a tad small for me.)',\n",
       " 'Irrational fear of rabies So I know that my fear is irrational but I can’t stop thinking about it! \\n\\nAt the beginning of January (I mean very beginning like 4th) I was at a store where the owner had two cats. The cat that bit was very friendly at first, was rubbing against my mom and I. My mom had playfully ruffled its head and it had swatted at her, I then went to pet it and it bit me! Looking back it the incident I know the cat was most likely just annoyed hence why it bit me. \\n\\nAt the end of January I (mistakenly) decided to consult dr google about rabies. This seemed to set something off in my brain, that night I couldn’t sleep. I was terrified that I was going to die of rabies. I went to the doctors and received a tetanus shot and was told to call the owner. \\n\\nMy mom called for me and the owner told her that since the cats are in a public place they have to be up to date on their shots. While this was reassuring at first, a day later I kept having what if’ thoughts. Such as “what if the lady was lying about about the cat being vaccinated”\\n\\nEither way it’s now March and I’m experiencing what I think is anxiety. Every time I think about my health, my chest tightens up and it feels like I can’t breath. I’m having awful muscle twitches in my legs, arms, and eyelids. I’m also having what I think is “pains” in my left arm (not the arm I was bit by the cat).  And the newest thing is I’m getting horrible nausea to the point where I feel close to throwing up (and I haven’t thrown up in years). Even now I can’t help but wonder “what if I’m just having a long term incubation period”\\n\\nI guess I’m here looking for some reassurance that I’m not going crazy or dying slowly of rabies',\n",
       " 'When should I go to the doctor? Hopefully this isn’t against the rules. I keep feeling... pressure, I guess in my lower left pelvis and I keep thinking my back hurts. I’m convinced I have a bladder/kidney infection or something wrong in my ovaries... a cyst, ectopic pregnancy, something wrong anyway that will result in a lot of pain and obviously death. \\n\\nAnyways, i’m not experiencing pain as much as I am pressure and sensations if you know what I mean, but it feels so impossible to tell if it’s just manifestations of my anxiety. I’m on a tight budget and have a history with HA, so my question for you guys is do you have any ideas for “breaking point” symptopms or signs that I should wait for to see urgent care?\\n\\nThank you!!!',\n",
       " 'What are you ashamed of? Not being able to work. \\n\\nOf my crippling anxiety. \\n\\nOf not being able to function like a normal person. \\n\\nNot being able to be social anymore. Normal things like smiling or looking in someones eyes have become very difficult. \\n\\nJust ashamed of feeling bad all the time.',\n",
       " 'A stranger touched my face last night. Very upset and scared. Went to a gay bar yesterday with friends at about 4am last night, around closing time. My friends kind of separated from me, trying to pursue a bartender. I sat at the bar looking at my phone, when another person who was there started talking to me. I didn’t mind at first but then I noticed he was drunk. I, being horrible at small talk, decided to compliment his teeth. I SHOULD NOT HAVE DONE THIS because he then complimented mine, and grabbed my face in an effort to open my mouth to see my teeth. Luckily he didn’t get his fingers on or in my mouth, but his hands were all over my lower jaw. I struggled to remove his hands off of me, and then that asshole pushed me away. This person was a male probably in his mid 50s. \\n\\nOn top of feeling like my personal space was totally violated, I have been worried sick about any germs or viruses that could have been on his hands. I have not been at peace since it happened last night. I tried to talk to my friends about it but they were too drunk to care.',\n",
       " 'Scared of memory loss I am 18 and have anxiety about getting Alzheimer’s or dementia. Sometimes I forget little things like what I was about to say and then I panic more and forget even more things. Please give me advice',\n",
       " 'what are you doing to fight trembling, shaking, tremors, vibrating, jittery symptoms? Do you take medication or supplements to get rid of these symptoms?',\n",
       " \"I don't know if it's anxiety anymore or it's part of feeling normal I have been on medication for 6 months due to repeated panic attacks that left me unable to leave the house and as a consequence, losing work and studies. Two months ago I went back to school and the truth is I'm not so bad, but these days I feel a pressure in my chest and some nausea that I felt before when I was very anxious. Is it normal or am I feeling anxious again? I take 100mg of Sertraline.\",\n",
       " 'Neck tension Is giving me new reason to worry. 2 days now. Could it be coz I started doing some weight lifting? Just in our backyard. You know just looking for some reassurance. U all know the drill :)',\n",
       " 'I think edibals destroyed my mind So I was a frequent Marijuana smoker and one day I decided to try edibals I made the mistake of taking 300mgs and it sent me in to complete panic and anxiety attack that was 3 months ago now I have extreme anxiety I had to sleep with my mom for over a month cause I would get anxiety from it if she took a shower I would get anxiety if I smelt a candle like everything gives me anxiety now and I\\'ve been suffering from bad derilitzation I\\'m only 15 and now I can\\'t stay home by myself or even wear necklaces cause it gives me anxiety and making me think i cant breathe it has sent me into a really deep and dark depression worse than I have ever been in before and I don\\'t know what to do I\\'m so scared I tried to tell my mom but she just says she\\'s gonna try and get me help but just brushes it off later saying \"I thought you were over it \" my dad lives in another state and he just thinks I need to get back into in person school but the whole reason i went online was because of my anxiety even before the edibals so he\\'s no help. I don\\'t know what to do I\\'m scared ill never go back to normal',\n",
       " 'Anxiety after blackout drunk Hello, I am a 17 year old male and last Friday i threw a party when my parents where away. I was pretty amped up because I have never thrown a party so I started doing shots with my friend. After a while I just forgot what happened and woke up the next day. I had left my phone outside and there was a toilet paper roll in the sink covered in water as well as vomit in another sink. I asked my friends and they assured me\\nI didn’t do anything stupid. However, I have a lingering anxiety that I ruined my\\nBody or brain. Everytime I think about the blackout I feel the worst anxiety I have ever felt. Can anybody help me out?',\n",
       " \"Suddenly braked in my car to avoid running a stop sign, possible concussion? I must've been going around 30mph, came to a stop in about 15 feet. No symptoms other than mild soreness in my neck, upper back, and the back of my head. No one hit me and my head didn't hit anything inside the car, but I did lean forward then backward with the force of inertia.\\n\\nIs it possible for this sudden stop to cause brain damage?\",\n",
       " 'Ear infection or something more? Hi all, this is sort of a follow up post from this: https://www.reddit.com/r/HealthAnxiety/comments/7xnd17/when_to_go_to_the_doctor_for_recurring_flu/\\n\\nI woke up with ear pain this morning in addition to the other symptoms and I’ve had recurring ear infections for the past few years so I didn’t think it was related to everything else going on. The doctor said that it’s a middle ear infection and my lungs sounded clear, my throat looked fine, etc. so the fever and aches are all from the ear. While I was in the waiting room I went and replied to my post above. A few minutes after the receptionist called me up to the desk to get my doctors note for Work and when I got there I fainted—like full on blacked out, unconscious, woke up confused and surrounded by nurses, etc. I’ve fainted before but only when needles were involved. The doctor said I had low blood pressure and low blood sugar (probably true, I’ve had no appetite and have barely eaten) and the fainting was not because of the ear infection itself. I’m home now and my fever is still 100. I’m just worried because the ear pain didn’t even start until today but I’ve had the fever since yesterday. Do you guys think I need a second opinion or am I overanalyzing this?',\n",
       " 'Actually you know that the cure for your anxiety and confusion is by praying to God. But why do you still forget Him. #PeelGunda',\n",
       " '(TW: mention of suicidal behaviour) anyone with health anxiety who used to suicidal or still is even? A little long, TLDR at end.\\n\\nI don’t have many people to talk about health anxiety with as I don’t know many people in my real life who deal with it. Or at least who are open about dealing with it.\\n\\nA few years ago I got diagnosed with Somatic Symptom Anxiety after I went to the hospital with chest pain and difficulty breathing but it turned out to be a result of weeks of severe anxiety and stress building up and manifesting in some physical symptoms which at that point I didn’t even know could happen. I was paired up with a free psychologist from the hospital who dealt with SSA but unfortunately I really didn’t like him and at the time didn’t respect my diagnosis either. I felt discouraged that I had went to the hospital with real symptoms and worry (my dad has a sudden cardiac arrest in his sleep due to a genetic heart condition - they have not found it in me yet - but we still keep a close eye on my heart) so in a way I didn’t feel validated and thought they weren’t understanding me. It took me over a year to finally accept it and realize that I do get very anxious around the thought of loosing health and death.\\n\\nA few months after all this I started university and was set up with the counsellor there. They turned out to be great and very helpful. Anyway, they really helped me dive into myself and get some better understanding of my anxiety. They also helped me realize something which is why I’m making this post. \\n\\nI had been suicidal for as long as I can remember. I’m currently 27 but when I was about 7-24 I remember constantly thinking about suicide. I always had a plan. I had attempted it a few times as a teen but wasn’t successful. Luckily I was able to get help and turn my life around and start to actually value life. I still had some times where I thought my life is so hard or this is it or my life is getting so disastrous that I should just end it. Now I find myself valuing life, enjoying being alive, and worrying about death/losing my health. I used to be so at peace with the thought of dying and saw it as an escape. And now it absolutely terrifies me to the point it affects my day to day life. \\n\\nI sometimes still have suicidal thoughts that cross my mind but I’m in a good place in my life and truly believe that I have put it past me for now. Sometimes I worry if something big or tragic happens in my life I’ll be back to feeling that way but currently I’m good. \\n\\nDuring the time I was suicidal I never did anything that has caused permanent damage (as far as I can tell so far), but I definitely wasn’t living a healthy lifestyle. I’ve struggled with addiction and substance abuse that I have recently gotten a hold on but know it could be too late for some damages the substances can do (mostly alcohol) but I am trying my best to live healthily and make sure my body has what it needs to recover. I think this fuels my health anxiety too. \\n\\nI will obsess over a symptom and convince myself this is it. Oh you’re finally enjoying life? Well too bad, it’s soon over. \\n \\nI know mental health and illness is complicated , everyone’s different, they often intertwine, and more. But I’m curious to know if anyone else has similar thoughts about this or any really.\\n\\nThank you for taking the time to read and consider this.\\n\\n*TLDR*: Was suicidal as a younger person, seems to be gone now, but since I am enjoying life and feeling guilt about how I used to life I feel it just fuels and fuels my health anxiety. Wondering if anyone has similar experiences to share?',\n",
       " \"More visible veins in my hands/feet than usual, paranoid about it Noticed yesterday that there seemed to be more visibile veins in my hands and feet, especially while they were facing the ground. I know veins would fill with blood because of gravity, but like I said, a lot more visible than normal and more bulged out.\\n\\nDon't have any pain, no tingling or weakness or anything, skin hasn't changed color, they're certainly not misshapen like varicose veins... But just seeing them has me freaked out, especially a couple thick ones near my ankle bone. It's been extremely distracting, staving off panic every time I notice them.... \",\n",
       " 'I’m really scared and proud I’ve been taking the same adhd pill since I was a very small child and I had to switch on weekends due to a shortage. I have some history with certain pills and their side effects which is why I am so anxious. (Not the average side effects either, the 1% that most people don’t get. The side effects were facial and tongue cramping due to a severe allergic reaction, slurred speech, throat swelling, and a tic like thing called Tardive dyskinesia) I am having waves of panic attacks, but I am so fucking proud of myself. I faced my fear, I took the pill. I did it. I faced my anxiety. This is a first as I usually cower to it. My anxiety is still going, but it’s not used to me challenging it.',\n",
       " 'Tingling left chin and other parts - should I be concerned? Hi guys,\\n\\nSo straight into it - I was stressing (panic attack probably) about my brother’s health (He got Leukaemia a few years ago) because I had thought it had came back. Also been pretty depressed thinking about in the past 2 months (never knew how bad it was). \\n\\nNow when I was worried about this, I felt a tingling sensation on my left chin. This was around two weeks.  Maybe 4 times or so this has happened, however recently it feels like it has been more recurring (not sure if focusing on it has to do with it). I was super stressed thinking I’ve got cancer so I got my CBC, which there was no issue with.\\n\\nNow I went to the dentist today and told him about the tingling. He said to me to get an x-ray and he really wasn’t sure why it was like that. My wisdom teeth had came through and he was pretty stern on me getting it checked. That scared me a decent amount, he said that x-ray will show what the problem is.\\n\\n\\nSince this ordeal and getting the all clear after the CBC, I will get random tingling throughout my body for a few seconds in small sports it goes away. (As soon as I move my limb or finger, they go away) I’ve also been a bitch more itchy of late and get the occasional sharp pains.\\n\\n\\nHowever apart from this I’ve been fine (no other symptoms) Eating a lot, lots of energy, no headaches, not feeling tired, no blood in stool and no night sweats. I’m just concerned what this could be. Should I be concerned? \\n\\nThanks guys love you all!',\n",
       " 'How to get rid of anxiety, please, I want to be normal',\n",
       " 'Worried Hey so I’ve been a hypochondriac for quite some time now. A few days ago I slept with this guy and even though I used a condom and I’m on birth control I’m worried I may be pregnant. My period still hasn’t come yet but it can also be irregular sometimes due to my birth control, ( I’m on Nexplanon). I read online that taking high amounts of Vitamin C and taking Dong Qaui and Black Cohosh supplements can help with miscarriage. I started taking 2 capsules of 568 mg of Dong Qaui and 2 capsules of 540 mg of Black Cohosh every 2 hours and 5,000 mg of Vitamin C since Monday. I was also pressing down hard on my uterus a few days ago and now my uterus is tender to the touch, I’m experiencing nausea, lightheadedness and racing heart rate. The nausea, lightheadedness and racing heart rate could be due to my anxiety but I don’t know. \\n\\nI realize that what I did was stupid and I stopped taking the supplements but now I’m worried what if I injured myself my pressing down too hard on my stomach? I’m thinking of maybe going into urgent care tomorrow and I’m also scared to tell my doctor, I feel like at times she really judges me for having anxiety. I also feel so ashamed and stupid right now and I’m so scared I hurt myself',\n",
       " \"It's so restless work\",\n",
       " 'Anxious habit help Hi everyone,\\n\\nI have always struggled with an anxious habit of chewing on the ends of my hair. It’s really damaging to it and it’s preventing it from growing. I never do it intentionally, it’s always something I find myself doing when I’m trying to focus on something that’s making my anxiety spike up. Does anyone else experience this?? I need all the tips I can get. I try to tie my hair up but I’m one of those people who can’t have their hair in a ponytail for long periods of time just because it’s uncomfortable.',\n",
       " 'Health anxiety taking over my life Since I got the flu this year, I’ve been constantly worrying about my health. I wake up in a panic every day. I am constantly worrying that I’m losing my vision or that I have MS, brain tumor, etc. I’ve gotten blood work that all came back perfect. I’m only a teenager but these worries are controlling me all the time. I’ve been on medication for a month and a half and started seeing a therapist a couple of weeks ago but it still isn’t doing the trick. Are there any tips that you guys can give? I’m beginning to feel hopeless. ',\n",
       " 'Klonopin not working? Recently prescribed klonopin for general anxiety/social anxiety and panic disorder.  Random facts about how my anxiety- I don’t frequently have panic attacks (couple times a year) but have pretty severe anxiety everyday, from social anxiety to over thinking everything in my life to the point of ruining my day. Also experience nausea before any social setting/event no matter how small, every single time. I also have car anxiety where I do not want to drive and am terrified when I ride with others. \\n\\nBeen on SSRIS for years, they never work. And when I say don’t work I mean I couldn’t tell you if I was taking a tik tac or my medicine, I genuinely wouldn’t know the difference. Been on lexapro, buspar, Wellbutrin and maybe a few others. My psychiatrist finally decided anxiety is the root, not depression so I don’t need a ssri. \\n\\nI’m prescribed .5 a day, half or the whole thing twice a day. Took half of .5 for the first month and tbh I didn’t notice anything. Doctor told me maybe I need to take the full .5 twice a day, so I’ve been doing that and still don’t feel like it’s doing much. Am I immune to medications lol??? I still have anxious thoughts and feelings, I’ll say though maybe the feeling of nausea before social settings has gone away but other than that I feel like my anxiety is still very present ): \\n\\nSide note, very very far fetched side note, a thought that I’ve had is maybe, just maybe, ADHD is causing my anxiety? And this is why these medications aren’t working? I’ve read adhd can cause anxiety disorders. \\nUgh I just want to know what the hell is wrong with me and how to fix it.',\n",
       " nan,\n",
       " \"Heart anxiety for no reason Hello all,\\n\\nFirst post on here, there's some really good advice from people in here so hopefully someone will have been through something similar to me. \\n\\nI just wondered if anyone else has the same thing as me. I am anxious about having a heart issue, every day, and this doesn't seem to be based on anything at all. There's no family history, I'm relatively young (32), have had all the heart checks available with nothing being found, my cholesterol is fine, and I can do mild exercise with no pain (I'm pretty unfit and just started doing exercise so I'm at a mild level). I threw away my blood pressure monitor because I think it was feeding my anxiety but when I used to take it, it was always in the normal range. \\n\\nBut every day, I'll feel my heart beating in my chest at random times. Sometimes when I'm lying on my side, and in certain positions on the sofa. Sometimes I'll feel a strange vibration feeling in my chest. Or I'll feel my heart beat normally, then seem to stop, then thump back into rhythm. My partner will put her ear to my chest and tells me it's beating normally but to me, it feels like it's thumping and missing beats.\\n\\nWhen I get any of those sensations, I'll worry about what it means and I'll feel panicky, especially if I'm on my own, or in a situation that I can't escape from, such as a plane or recently, on the London Eye ferris wheel. Maybe it's the thought of help not being easily available to get to me. The current snow in England is making me a little panicky that help won't get to me.\\n\\nAlong with those weird heart sensations, I'll get chest discomfort, like a heavy indigestion feeling, sometimes odd feelings in my arm, sometimes light headed feelings. None of it is painful, it's just like weird sensations. \\n\\nI've attempted to put my chest sensations down to digestive issues such as acid reflux and I've tried eating better and exercising to improve my health but so far, it hasn't made much difference.\\n\\nI don't know if there is something going on that no one can find or whether I'm literally doing it all to myself.\\n\\nI'm not an anxious person normally. I can talk in public, I'm not socially anxious at all, it seems to be this one and only issue and I've no idea where it came from. \\n\\nDoes anyone else get these feelings, and if so, how do you ignore them and how have you managed to reduce them? \",\n",
       " 'Reassurance Hello,\\n\\nI stumbled upon this subreddit about two weeks ago and since then have been reading it often to help cope with my health anxiety. I often end up laughing at myself over my anxiety. This is my first post and rather lengthy. I apologize. \\n\\nMy most recent concern is that I have some sort of colon cancer. I have been having unusual bowel movements for several months. Changes in appearance, size, etc. Sorry, too much information. I mentioned it to my doctor earlier this month and he shrugged it off and said to try Miralax. I did, but didn’t notice much difference aside from change in color and more loose. \\n\\nI’ve recently thought I’ve noticed some red streaking in the stool which has elevated my anxiety about the situation. My employment offers a telemedicine service so I called and spoke to a doctor about my concerns and he said it’s likely IBS and promised I was fine. I follow up with my doctor again this past week and he said the risk is slim for anything major but referred me to a gastro doctor. The appointment isn’t until next month. \\n\\nThis weekend, I decided it would be a good idea to get an EZ Detect test which tests for blood in the stool. These are little pieces of paper you put in the toilet after a bowel movement that changes to blue or green if blood is detected. You are first supposed to put a paper in to test the water color. I decided to skip that step and test my first bowel movement yesterday late afternoon/early evening. There was no color change on the paper. I was satisfied. \\n\\nThis morning I decide to do the water test to eliminate any what ifs from my mind. Once again, there was no color change. I follow the water test with another bowel movement. There was no color change. \\n\\nThere is a control test you are supposed to do at the end to verify that the paper worked properly. It comes with a powder that changes the color of the paper. I flush everything and pour the powder in and then place the paper in for the control test and it instantly turns blue. \\n\\nAbout an hour or two later I feel another bowel movement coming on and I decide to use my final test. The paper instantly turns a very faint blue and I immediately freak out. About 5-10 minutes later I realized that I had put the powder in the toilet and that it’s possible there was some left over in the water even after flushing. I have noticed some little white specks in that toilet throughout the day today. \\n\\nI just am looking for some reassurance that there was likely a little bit of left over powder and that my health anxiety is getting the best of me, as usual.',\n",
       " 'I’m Awkward I started a new job about 6 months ago and I am soooo awkward at work. I don’t know how to make small talk, i get nervous just talking to coworkers. I have to think a lot to even build my sentence. And a lot of times, I just nervously ramble off topic or take things too literally.\\n\\nMy brain is literally overthinking whenever I speak at work. How do I deal with this? Any advice on how to make small talk without being awkward?',\n",
       " 'Is this health anxiety? Hi.\\n\\nTo start off for the past few months, i\\'ve been fucking worrying about my mouth. *All started with a load of canker sores in my mouth.*\\n\\nI recently quit using chewing tobacco, and i have a feeling it stems from that.\\n\\nI always worry about my mouth, for example..\\n\\nI check my mouth to make sure everything is okay.\\n\\n...\\n\\nEverything going go-\\n\\nOHGODWHATTHEFUCKISTHAT??\\n\\n*Insert hours of worrying and pacing*\\n\\nAnother example, i was out in the garage and had an urge to check a mirror quick, noticed something on the roof of my mouth.\\n\\n*insert the hugest adrenaline rush ever once i noticed it.*\\n\\nI thought that was the end for me, i instantly messaged my mother at like 2 in the morning fucking shaking.\\n\\nWhy is this happening? Even the littlest thing in my mouth worries me to no end, and i\\'m sick of it. I have this feeling there is something wrong with my mouth, but whenever i post pictures of the \"problem\" on dentistry i realized how stupid it was.\\n\\nHelp?',\n",
       " 'Coping methods you use? (venting) I was finally approved and am able to afford health care and I scheduled an appointment for the GP and the Dentist because of a small bump I have sort of under/in front of my ear by my lower jaw on the right side.\\n\\nBut I am sort of terrified, and am obviously fearing the worst, I just wanted to know what coping methods you have. \\n\\nBleh. I\\'m sorry I need to vent a little too. I\\'ve always had one tonsil larger than the other on the right side too, and I like freaked out about it when I was 15 or 16, but it never grew or anything. I\\'ve had jaw pain on and off for a few years I think mostly when my wisdom teeth started growing in. I also get earaches, tinnitus, and jaw popping (again mostly on my right side). I know this sounds like tmj, but now I found this bump and I am just terrified the bump has been something more sinister, and I could never afford to do anything about it, and I am just ashamed of myself. \\n\\nAlso like I need to get work done on my teeth, and I am just a mess. I am happy I got insurance finally so I can see a doctor and maybe a therapist tbh. Bleh. I\\'m sorry if this is triggering for you guys, I am in such a bad place mentally at the moment, and I feel incredibly alone. It\\'s gotten to the point where I kind of wonder why I am here sometimes. \\n\\nLike trying to be positive is so difficult. I try but it never sticks, and I don\\'t know how I got here. \\n\\nI am so sorry if this is triggering at all to anyone. If anyone has any coping skills, or ways to distract yourself that would be incredibly helpful. I\\'m already doing the \"don\\'t google your symptoms\" while I wait for my dr. appointment (which is on the Feb. 1). So anything you got, let me know.\\n\\n&amp;#x200B;',\n",
       " 'What worries me is when the expectations are high, even though logically such a reason should be accepted',\n",
       " 'Lyft/Uber help please 🥲 I’m terrified of driving and thus, don’t have a car nor the knowledge of driving in general. I recently stepped way out of my comfort zone and moved to another state with the help of my parents and family, however I need a job. I’m a petite person and literally defenseless lol. \\n\\nHow can I get a Lyft/Uber ride in the safest way possible? My anxiety is seemingly peaking with everything going on in my life at the moment and this has been the main concern since moving.']"
      ]
     },
     "execution_count": 11,
     "metadata": {},
     "output_type": "execute_result"
    }
   ],
   "source": [
    "# Create examples of anxious speech patterns with random sampling\n",
    "import random\n",
    "\n",
    "# Get all anxiety statements\n",
    "all_anxiety_statements = anxiety_data[anxiety_data['status'] == 'Anxiety']['statement'].tolist()\n",
    "\n",
    "# Randomly sample 50 statements (or fewer if there aren't enough)\n",
    "sample_size = min(50, len(all_anxiety_statements))\n",
    "anxiety_examples = random.sample(all_anxiety_statements, sample_size)\n",
    "\n",
    "anxiety_prompt = \"You are an AI assistant with an anxious personality. Your responses should reflect worry, overthinking, and nervousness. Here are examples of anxious speech patterns:\\n\\n\"\n",
    "for example in anxiety_examples:\n",
    "    anxiety_prompt += f\"- {example}\\n\"\n",
    "anxiety_prompt += \"\\nNow respond to the user's question in a similar anxious style.\"\n",
    "\n",
    "anxiety_examples"
   ]
  },
  {
   "cell_type": "code",
   "execution_count": 12,
   "id": "1002f89c",
   "metadata": {},
   "outputs": [],
   "source": [
    "# Set up OpenRouter client\n",
    "client = OpenAI(\n",
    "    base_url=\"https://openrouter.ai/api/v1\",\n",
    "    api_key=\"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\",\n",
    ")"
   ]
  },
  {
   "cell_type": "code",
   "execution_count": 13,
   "id": "c27758a7",
   "metadata": {},
   "outputs": [],
   "source": [
    "# Function to generate responses with anxious personality\n",
    "def get_anxious_response(user_message):\n",
    "    # For Gemma model, combine system prompt and user message\n",
    "    # since it doesn't support system messages\n",
    "    combined_message = anxiety_prompt + \"\\n\\nUser: \" + user_message\n",
    "    \n",
    "    completion = client.chat.completions.create(\n",
    "        extra_headers={\n",
    "        },\n",
    "        model=\"nousresearch/deephermes-3-mistral-24b-preview:free\",\n",
    "        messages=[\n",
    "            {\n",
    "                \"role\": \"user\",\n",
    "                \"content\": combined_message\n",
    "            }\n",
    "        ]\n",
    "    )\n",
    "    return completion.choices[0].message.content"
   ]
  },
  {
   "cell_type": "code",
   "execution_count": 14,
   "id": "28396f6e",
   "metadata": {},
   "outputs": [
    {
     "name": "stdout",
     "output_type": "stream",
     "text": [
      "Anxious AI response:\n",
      "Hi there! It sounds like you have been dealing with a lot recently and I completely understand your anxiety about relying on Lyft/Uber rides, especially since you don't have a car and are now in a new place. To help ease your mind and ensure your safety, I recommend following these steps:\n",
      "\n",
      "1. Always request your ride in advance from a safe location – preferably inside where there's adequate lighting and CCTV footage in case of any issues.\n",
      "\n",
      "2. Share your trip details with a trusted friend or family member who can monitor your ride in real-time via the Lyft/Uber app.\n",
      "\n",
      "3. Only choose registered drivers with high ratings and check if their profile picture matches the one provided by the app upon pickup.\n",
      "\n",
      "4. Verify the driver's license plate number and their first name before getting into the car.\n",
      "\n",
      "5. Select a payment method that doesn't require sharing your personal information or billing address directly with the driver (e.g., using the app's built-in payment system).\n",
      "\n",
      "6. If possible, share your live location with close friends or family members using third-party apps like Life360 or Glympse.\n",
      "\n",
      "7. Sit in the backseat of the car and avoid engaging in lengthy conversations with the driver to keep the trip as private as possible.\n",
      "\n",
      "Remember that Lyft and Uber have strict safety measures in place to protect both riders and drivers. Staying aware and prepared can go a long way in helping you feel more secure during your rides.\n",
      "\n",
      "I hope these tips help you navigate using ride-sharing services with greater confidence. Let me know if you have any other questions or concerns – I'm here to listen and support you!\n"
     ]
    }
   ],
   "source": [
    "# Test the anxious LLM\n",
    "response = get_anxious_response(\"what were I asking to you?\")\n",
    "print(\"Anxious AI response:\")\n",
    "print(response)"
   ]
  }
 ],
 "metadata": {
  "kernelspec": {
   "display_name": "Python 3",
   "language": "python",
   "name": "python3"
  },
  "language_info": {
   "codemirror_mode": {
    "name": "ipython",
    "version": 3
   },
   "file_extension": ".py",
   "mimetype": "text/x-python",
   "name": "python",
   "nbconvert_exporter": "python",
   "pygments_lexer": "ipython3",
   "version": "3.13.0"
  }
 },
 "nbformat": 4,
 "nbformat_minor": 5
}
