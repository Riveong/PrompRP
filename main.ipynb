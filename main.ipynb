{
 "cells": [
  {
   "cell_type": "code",
   "execution_count": 30,
   "id": "4905724b",
   "metadata": {},
   "outputs": [],
   "source": [
    "import pandas as pd\n",
    "import os\n",
    "from openai import OpenAI"
   ]
  },
  {
   "cell_type": "markdown",
   "id": "b4e497c7",
   "metadata": {},
   "source": [
    "# Data Load"
   ]
  },
  {
   "cell_type": "code",
   "execution_count": 31,
   "id": "c6fe7edc",
   "metadata": {},
   "outputs": [
    {
     "name": "stdout",
     "output_type": "stream",
     "text": [
      "Dataset shape: (53043, 3)\n",
      "\n",
      "First few rows:\n",
      "   Unnamed: 0                                          statement   status\n",
      "0           0                                         oh my gosh  Anxiety\n",
      "1           1  trouble sleeping, confused mind, restless hear...  Anxiety\n",
      "2           2  All wrong, back off dear, forward doubt. Stay ...  Anxiety\n",
      "3           3  I've shifted my focus to something else but I'...  Anxiety\n",
      "4           4  I'm restless and restless, it's been a month n...  Anxiety\n",
      "\n",
      "Column info:\n",
      "<class 'pandas.core.frame.DataFrame'>\n",
      "RangeIndex: 53043 entries, 0 to 53042\n",
      "Data columns (total 3 columns):\n",
      " #   Column      Non-Null Count  Dtype \n",
      "---  ------      --------------  ----- \n",
      " 0   Unnamed: 0  53043 non-null  int64 \n",
      " 1   statement   52681 non-null  object\n",
      " 2   status      53043 non-null  object\n",
      "dtypes: int64(1), object(2)\n",
      "memory usage: 1.2+ MB\n",
      "None\n",
      "\n",
      "Missing values:\n",
      "Unnamed: 0      0\n",
      "statement     362\n",
      "status          0\n",
      "dtype: int64\n"
     ]
    }
   ],
   "source": [
    "# Load the mental health sentiment data\n",
    "data_path = './data.csv'\n",
    "anxiety_data = pd.read_csv(data_path)\n",
    "\n",
    "# Display basic information about the dataset\n",
    "print(f\"Dataset shape: {anxiety_data.shape}\")\n",
    "print(\"\\nFirst few rows:\")\n",
    "print(anxiety_data.head())\n",
    "\n",
    "# Check column names and data types\n",
    "print(\"\\nColumn info:\")\n",
    "print(anxiety_data.info())\n",
    "\n",
    "# Check for any missing values\n",
    "print(\"\\nMissing values:\")\n",
    "print(anxiety_data.isna().sum())"
   ]
  },
  {
   "cell_type": "markdown",
   "id": "861a251d",
   "metadata": {},
   "source": [
    "# display data"
   ]
  },
  {
   "cell_type": "code",
   "execution_count": 32,
   "id": "414d675a",
   "metadata": {},
   "outputs": [
    {
     "name": "stdout",
     "output_type": "stream",
     "text": [
      "Number of anxiety statements: 3888\n",
      "\n",
      "Sample anxiety statements:\n",
      "0                                           oh my gosh\n",
      "1    trouble sleeping, confused mind, restless hear...\n",
      "2    All wrong, back off dear, forward doubt. Stay ...\n",
      "3    I've shifted my focus to something else but I'...\n",
      "4    I'm restless and restless, it's been a month n...\n",
      "Name: statement, dtype: object\n",
      "\n",
      "Missing values in anxiety statements: 47\n"
     ]
    }
   ],
   "source": [
    "# Filter for anxiety statements only\n",
    "anxiety_statements = anxiety_data[anxiety_data['status'] == 'Anxiety']['statement']\n",
    "\n",
    "# Display the number of anxiety statements found\n",
    "print(f\"Number of anxiety statements: {len(anxiety_statements)}\")\n",
    "\n",
    "# Display the first few anxiety statements\n",
    "print(\"\\nSample anxiety statements:\")\n",
    "print(anxiety_statements.head())\n",
    "\n",
    "# Check for any missing values in the filtered data\n",
    "print(f\"\\nMissing values in anxiety statements: {anxiety_statements.isna().sum()}\")"
   ]
  },
  {
   "cell_type": "markdown",
   "id": "a3364a7f",
   "metadata": {},
   "source": [
    "# Prompt engineering on progress..."
   ]
  },
  {
   "cell_type": "markdown",
   "id": "5f5a9292",
   "metadata": {},
   "source": [
    "adding random so the model will be more anxious overtime >:D"
   ]
  },
  {
   "cell_type": "code",
   "execution_count": 33,
   "id": "9d29082a",
   "metadata": {},
   "outputs": [
    {
     "data": {
      "text/plain": [
       "['Do not compare yourself to others. Envy only makes restless soul. Be yourself.',\n",
       " 'My Health Anxiety Story and How I am Recovering Hello /r/HealthAnxiety!\\n\\nAllow me to tell you my health anxiety story and how I am beginning to recover from this psychological illness!\\n\\nThe first precursor to my health anxiety was probably almost a year ago to the date when I felt a bump on my shoulder, which I thought was a tumor. Of course, it ended up being a deeply embedded pimple or cyst and resolved on its own after I went to the doctor who said the same thing. When I went into full-blown panic mode was back in April when I woke up with two puncture marks on my ankle after staying the night at a sister\\'s house. Knowing that they once had an issue with a bat in the attic, I assumed that a magical bat had made its way all the way downstairs, embedded itself in the bowels of my sister\\'s house, and bit me on the ankle. Of course, this magical bat must have had rabies too. Spoiler warning, but I did not die of rabies and am not writing this as a ghost.\\n\\nMy health anxiety probably climbed into a hysteria that consumed me last June. I was going to a university field station when I fell ill. Really ill. Not being able to keep down food or water for three days ill. Thus, I flew home as I had missed much of the class and assumed that I was going to die and wanted to so around family. Yet, again, I did not die, but the ordeal had traumatized me enough to sink into full-time paranoia that I would not escape until October.\\n\\nExcept for the occasional stomach ache things were fine for a month from a physical perspective, but from a mental perspective (if thinking I had terminal skin cancer from a 2mm mole was any indication) I was in rough shape. \\n\\nIn mid-July, I developed the first sign of a rare birth defect that I did indeed end up having. Now, before you go into a google symptom, allow me to explain what happened: my belly button burst open. It was not painful as I didn\\'t know this had occurred for an hour. It wasn\\'t until I looked down and saw that my outie had turned into a popped inside outie. I walked to the hospital and was diagnosed with cellulitis and told to go to a follow-up with the university doctors. Ultrasound showed nothing. It was only after a CT scan two months later that they saw a 1\"x2\"x3\" sinus and cyst located behind and below my belly button. The operation was a success and it was removed two months ago. I even got an innie out of the ordeal. In between July and October I had been tested for just about anything and the only thing that came up were elevated liver enzymes and a weird-ass belly button.\\n\\nIn the meantime, I had begun CBT and doubled my dosage of Celexa (which is now down), which helped a lot. Besides teaching me mindful thinking, my therapist became a good outlet to just talk about life and my general grievances that I had been experiencing as a graduating senior from a top state university.\\n\\nTo err on the side of caution, my PCP sent me to a liver specialist to get my liver checked out. They tested me for any liver ailment you can think of, and the only weird thing was my beta globulins- ever so slightly out of range (think 0.1 out of range when usually 1 or 2 out of range indicates an actual problem). Wanting to be as thorough as possible, the pathologist recommended a Bence-Jones Test for leukemias myelomas, and pre-leukemia. The test came back negative. Specialist ruled that it was just an off result due to my immune system still recovering from surgery about two and a half weeks before and I had had no other symptoms consistently. This final test was taken after Christmas break and ordered before it so despite being told I did not have a deadly illness, I stewed over it.\\n\\nAnd then, something happened. Something clicked in my head. I was sick of being prodded at and tested. I looked at my medical information logs for every time I visited the doctor and whenever I was with anyone but my PCP, my blood pressure jumped thirty points and pulse went up to 90bpm over 70. Living in America, I realized that doctors will NEVER stop running medical tests unless they are sure they have ruled out a condition. They don\\'t want to get sued and if you have the insurance or money WILL run a test if you are insistent enough. This all hit me in about 24 hours. I decided that should that final test come back negative that I would only go to the doctor if anything were seriously and obviously wrong or for my psychiatric check-ups. I only google things five minutes a day and I do not talk to my doctors over the patient portal- only at appointments.\\n\\nMy status has improved tremendously these past two and a half weeks. I wanted to tell you guys that there is hope, and what you likely suffer from is a psychological issue. It really is. In seven months the only weird things they could find was:\\n-Elevated liver enzymes, likely prescription or slight fatty liver after a huge barrage of tests\\n-Maybe some gallbladder sludge/stone\\n-Weird-ass belly button thing where if you had it would be very obvious or already addressed in your childhood (having it through adulthood so unlikely that they like to write case studies on it)\\n\\nAnd guess what? These were and are all very treatable. I came back here to post to tell you guys that it can get better. I felt a twinge in my upper right abdomen and got a little panicked tonight but this was the first time I felt even remotely worried about something in the last two weeks. I don\\'t know if it\\'ll take therapy, different meds, getting sick of tests, or all three, but you can get there. Don\\'t give up.',\n",
       " 'what needs to be done today already, but still feeling restless',\n",
       " \"Im so tired It's the lymph node again. It's in the armpit again. it's connected to the skin and I know what that means. Maybe I don't but I suspect\\n\\nIt's been such a relief when it dissapeared after the first time but now it's back again and so everything. I didn't sleep in two days and this is the third. Just why me\\n\\nMaybe I should start Xanax or something? Anyone? It's just getting worse and I ran out of ideas\",\n",
       " 'Yoo, why are you nervous, yo',\n",
       " \"Feeling restless, even though I'm fasting\",\n",
       " 'Anxiety med. that\\'s not an antidepressant? Hello! \\n\\nI have always been anxious, and as of 2-3 years ago, I was diagnosed with Generalized Anxiety Disorder. I\\'ve been in therapy for years and tried all sorts of medications (Lexapro, Zoloft, medical marijuana, CBD, Valium, Klonopin, Xanax, Amitriptyline), and the only thing that worked were the benzos. I\\'m extremely lucky to have an NP who fills my Xanax refills. The problem is... I don\\'t want to be addicted to this medication. I take it very sparingly, which is why it works so well, but I only take these when I feel nauseous/jittery/panicky, which, fortunately, is not 24/7. However, I do have GAD pretty bad. In the shower, thoughts just race and I can\\'t find the \"off\" switch. It\\'s ruined my sleep. It\\'s taken a dump on my memory. I just cannot live like this anymore. \\n\\nMeditations help in the moment I do them, but I feel like I need to be medicated. I was on Zoloft for about 6 months, and it helped tremendously, but when I tried getting back on it (I properly titrated my dose when I get off them), for some reason the side effects were extremely unbearable. Granted, I started back at 50mg, when before I was on it for 25mg for a week and then 50mg the second week and continued for 4-6 weeks. It could also be that at the time I could tolerate medical marijuana, but now, that makes me either anxious/jittery or straight-up nauseous. \\n\\nLexapro? Forget it. I started at 10mg, and that was a nightmare. I was so nauseous by day 2, if it wasn\\'t for my anti-nausea med, I would\\'ve projectile vomitted all over my kitchen floor. The other time I was at 5mg, and I felt so cracked out. \\n\\nI also don\\'t like that SSRIs are rough on my body for 4-6 weeks. Maybe that\\'s just the gamble you take, but I hate having increased anxiety, inability to ejaculate, and horrendous stomach pains for a month. Does that sound like fun to anyone? \\n\\nI took amitriptyline, and that was more for chronic pain, and it barely did anything, and as for anxiety, I didn\\'t notice much of a difference either, and I tried this medication at 10 and 25mg.\\n\\nI have an appointment with my NP tomorrow, and she is well aware I struggle with anxiety. Is there a medication that\\'s not an antidepressant that works for GAD and is not a benzo, meaning I can take as often as needed? \\n\\nI\\'ve also tried supplements like L-Theanine, Melatonin, and Ashwagandha, and they don\\'t do crap. \\n\\nAny experiences with non-antidepressants that worked for you?',\n",
       " \"The days are full of restlessness, with income that doesn't know the direction..Hopefully we can always get what we need and be given the advantage for a desire...5 - 5 - 21\",\n",
       " 'Anxiety/Antsy 2 weeks Post-Op Septoplasty/Turbinate Reduction - Need Support Hi all! \\n\\nFirst time poser here. I am a healthy 28 y/o Male who recently just had a Septoplasty/Turbinate reduction 15 days ago. I am a very active guy and usually very \"chill\" and outgoing. \\n\\nFor those of you who don\\'t know what that is, it\\'s for a deviated septum and you have splints up your nose for a week with a ton of congestion and basically can\\'t do anything while recovering but sit at home (I live by myself with family close by). \\n\\nDue to the surgery, I was instructed to not be super active for 2-3 weeks (I am a runner and take boxing classes). So far my nose and breathing feels fine and is healing normally, but the past few days I have been experiencing super anxiety/restlessness/antsy behavior that I have never experienced before in my life. Let me explain a bit.\\n\\n8 days ago I got the \"splints\" removed from my nose and had a minor complication the day after where my nose bled for 5-6 hours and I went to the ER and they packed it with the most painful \"rhino rocket\" thing up my nose that was the most pain I have experienced in my life. I immediately saw my ENT 6 hours later and she took it out and was pissed they didn\\'t contact her (it was 3am). She said everything looks fine and is healing correctly and gave me the number to call if anything like that happens so she can be contacted.\\n\\nI got relief that day and was able to take a nap/sleep but the next day I got a migraine I tried to wait out that kept me up all night but ended up taking my imitrex to relieve it. A few days later I got oral thrush (didn\\'t know until the end of the day on Sunday when my Uncle told me what it was an not super serious) with a swollen uvula where I felt as if there was \"something stuck in my throat\" and driving me crazy.\\n\\nOn Sunday I think everything just hit me at once: not being able to workout, being cooped up in my house, the whole trauma of the bloody nose incident, the swollen uvula driving me nuts and not healing as fast as I wanted to, living alone with my dog, etc. I started pacing and my mind was racing to the point where I was like do I need to go to the ER for anxiety or do I need to call my doctor? I have no history of anxiety/depression and have never felt this way before. I am not even close to suicidal thoughts or any self-harm. \\n\\nI was able to sit with my Dad and talk for a few hours while watching the Red Sox then have Sunday dinner at my grandma\\'s with my whole family and that helped a lot and by the end of Sunday/Monday I was feeling better (though the oral thrush is still annoying).\\n\\nToday I had some restlessness/anxiety at work that started resurfacing again like on Sunday but talked to a co-worker who used to struggle big time with it for a bit. \\n\\nIs this normal after surgery? Any thoughts/recommendations/words of encouragement?',\n",
       " \"I feel pain! I don't know why but I feel pressure and pain, I am unable to live and nothing works!!! I beg someone to help me\",\n",
       " \"Freaking out a bit Had been doing fine until today when my doctor told me I needed to go in for a second mammogram to get a better view of an area they biopsied last year. I'm in the middle of moving and changing jobs and this has just sent my anxiety over the edge. Not to mention, even paying the copay part of the biopsy and second mammogram I had last year was expensive for me. I have to wait two weeks before the test and it's going to feel so long. :(\",\n",
       " \"Intestinal anxiety I'm a 27 year old male, I don't smoke in any capacity nor do I do any drugs or drink alcoholic drinks in any capacity. I'm not on any medications and have no pre existing illnesses.\\n\\nLast year I had a pretty large bowel movement, large enough that I couldn't pass it without manipulating my anus with my hand to ease the log out, since then I've been having blood in my stools (on toilet paper and in/on feces), the blood is red, not sure if it's dark red but it's definitely not black. I have no pain associated with passing a stool at all which is slightly comforting I guess...\\n\\nShortly after the blood started showing up last year I took myself to the ER and explained what was happening, after getting a finger up my ass I was told it was most likely hemorrhoids. Not to long after visiting the ER the blood in my stool disappeared and I was relieved, now after roughly a year ish later it's shown up again and been off and on for about a month, still no pain associated with having bowel movements, just anxiety.\\n\\nFor the record I have no loss of appetite, no weight loss, and no fatigue out of the ordinary. I have no direct family with a history of colorectal cancer.\",\n",
       " \"Posting to maybe calm my worries... So obviously I like most likely all of us here, suffer with abit of health anxiety. I'm just wondering if i'm being a hypochondriac when I think I'm dying because I have small bumps underneath my skin on my forearm that seem to run along my vein, are they normal? does everyone else have them? maybe you yourselves could check, and if you do, I guess I'm fine... or we're all doomed... (jk but seriously) \",\n",
       " \"Anxiety has ruined my life... I need some advice/help (Gonna be a little long, gonna rant a bit)\\n\\nLittle back story, 20-year-old male, no past history of major anxiety other than flying on planes etc..\\n\\nLast year from January to April was feeling the best I have ever felt in my life! worked out 6-7 days a week, confidence was high, and not a care in the world. I would say around May, I started getting increasingly fatigued every day. As the days went on, it felt like I was detached from reality. By the end of the year, I felt so detached, fatigued, and had major brain fog. I have a small bump on the back of my head, it doesn't hurt, I got it checked out and the doc said it could be a skull deformity. I dont believe her.  I convinced myself that I had something wrong with me, and I went down the rabbit hole of self-diagnosing by reading google (i know worst idea ever). I could only function to the fraction I could before my snapping point. I felt so depolarized and had no energy at this point. I convinced myself I had a chronic illness that I was going to die from (I still belive this), I got every scan and lab work done. Nothing came of it. I had no idea what was causing all of these symptoms. Fast forward to January, I started a very stressful college class. It is an intensive academy-type class. I thought I had my stress pretty well controlled but in February I had my first panic attack ever. Went to school that day feeling fine, didn't eat breakfast, but drank 180mg of caffeine (I usually have \\\\~300mg a day). During the afternoon portion of the class, I felt this sense of impending doom, and shortness of breath and it felt like my heart was going to jump out of my chest.  For 2 hours my HR was in the \\\\~130s. I had no Idea what was going on and felt like I was gonna die. So my teacher wanted me transported to the ER, My EKG came back normal, sinus tachycardia (fast heart rate). They pulled labs and everything was normal except for low magnesium and potassium. They gave me some fluids and discharged me. For the next few days my heart rate was a constant 120 even when resting and my anxiety was through the roof! It sucked! My doctor then prescribed me Lexapro, and man oh man, hats of to anyone that could get through that first phase of Lexapro. It trashed me, constant panic attacks, SOB, tingling, the whole 9 yards. I stopped after 5 days due to the fact that I didn't want to be tied to a pill at such a young age. Since my panic attack, Ive had constant anxiety. Im having anxiety about things Ive never worried about before! it sucks! Its like I have to experience all these things over again (like driving) to tell myself there is nothing to be anxious about. Ill also be sitting in the most comfortable place in my house, not stressed at all, then my heart rate will kick off to the \\\\~120s for the whole day. Do you guys experience this? I also feel like I'm having heart palpitations. It feels like my heart is in my throat and I can't catch my breath. It sucks! Every time I stand up my heart rate jumps. It takes a long time for me to calm down and convince myself I'm not dying. I know my case is minor to some cases Ive read but damn Im having a hard time with this. Im in constant fear and anxious about having another anxiety attack and passing out. Im trying everything I can before I commit to an antidepressant. Im trying L  theanine, Ashwagandha, and magnesium. I got prescribed adarax but it doesn't seem to help like ativan does. I just want my old life back. Is this normal? Does it get better? will it be like this forever? how did you guys get over your anxiety? tips? medications? Thank you all for taking time and reading my post I really appreciate it. I just really need some help...\",\n",
       " 'Fucking hate you',\n",
       " \"The dread of thinking you have cancer... again My health anxiety has been okay for the last year or so but it's become out of control in the last few days. My poor husband keeps trying to reassure me but I'm struggling to keep myself together 😔\\n\\nFirstly, I've had two cold sores in the last month. That's kind of strange as usually I have an outbreak once a year, maybe twice.\\n\\nThen about a week ago I developed a really sudden intense pain on the left side underneath my rib towards the back. I've never had a pain like that before and wasn't sure why it was happening. Luckily it went away after a few hours.\\n\\nI've also been waking up a few nights lately sweating a little (that always starts alarm bells in my mind but I told myself it's probably because I was due for my period)\\n\\nThen last night, I woke up with a really sore throat. I instantly got kind of nervous - especially combined with the two cold sores recently. I've felt kinda warm all day but in the last few hours, I feel like I'm freezing and think I might be getting a fever - which never happens to me during a cold 😖😖😖\\n\\nSo ofc now I'm freaking out wondering if my immune system is destroyed because of Leukemia or Lymphoma. I'm trying to be calm but it's really difficult atm 😔😔 I'm hoping all this has been influenced by how stressed I've been for the last year but I'm still really scared. Any words of advice/support would be incredibly appreciated rn. \",\n",
       " 'SSRIs? i have been struggling with health anxiety and general spiraling lately, along with a host of other mental health issues. my psychiatrist recommended i try getting back on an antidepressant as they can sometimes help with anxiety (and my healthy dose of depression needs to be managed). we are thinking of prozac since i responded well to it when i was younger.\\n\\nanybody on here who responded well to SSRIs specifically in terms of their health/general anxiety? prozac in particular? would love to hear some success stories because tbh i am very anxious about starting but am desperate for relief.',\n",
       " 'I need such a small trigger and all hell breaks loose This sucks so much. Lately I need such a small trigger. So insignificant that I might now even notice it but turns out I did cause then suddenly I can’t breathe and start feeling dizzy and then the palpitations start. At this point deep breaths don’t seem to help. Overwhelming guilt over absolutely nothing consumes me. I hate, hate living like this.',\n",
       " 'Testicular Cancer I\\'m like 90% sure I have testicular cancer.. basically around 3 months ago, i got a sharp pain in my testicle, immediately I got worried as I never have pain there.. so I looked it up and saw testicular cancer, I was shaking, etc. The next day or so I was experiencing symptoms of testicular cancer.. like abdominal pain, chest pain, etc almost every day for like 1 and a half months, so fast forward January I went to the ER because the chest pains were pretty bad, same with abdominal pain, etc. They did an EKG, chest x-ray and a nurse did a physical exam on me.. so for the EKG my heart rate was kinda high, also my blood pressure was high (but it always has been so not really worried), then I had a Chest X-Ray after I did that and got the results back saying \"all clear\".. my chest pain stopped like 10 minutes later still had abdominal pain tho, they did a blood test which also came back good but TC can\\'t be detected in a common blood test. \\n\\nAfter that I got a physical exam and testicular exam, the testicular exam the nurse only examined the sides and front.. by the way I have a lump on the top of my testicle, didn\\'t really tell her about it though but she said everything seemed fine.\\n\\nSo still almost everyday I worry that I have TC.. i\\'m scared they could of missed something on the Chest X-Ray. I\\'m thinking about going back to the ER soon and getting a testicular ultrasound. Also right now i\\'m having headaches, fever and my necks been hurting when I move it for about a week.. \\n\\nCould all of this be Health Anxiety? As some of the symptoms still persist when i\\'m not anxious or not thinking about it. I\\'ve also felt tired and fatigued lately.\\n\\nI\\'m 15 years old by the way.',\n",
       " 'Anyone else anxiety symptoms run like clockwork at specific times of the day?  I think my GAD is so severe it now has a physiological source where my brain chemistry is messed up. My cortisol or serotonin levels throughout the day decide how I feel. DAE see patterns in their anxiety symptoms like this? \\n\\n**Mornings**: Wake up feeling shaky and short of breath, takes 30min of scrolling on my phone to get the motivation to get up. \\n\\n**Afternoon**: Tension builds up and I feel stiff and uncomfortable for no reason. Or have an adrenaline dump around this time\\n\\n**Early Evening**: Can be 50-50. Either I feel fine or symptoms start up again and last for a bit\\n\\n**Late evening**: Right at around 11pm or so some chemical switch goes off in my body and 80% of my issues vanish. It gets easier to breathe, my Heart slows down, and my brain fog lifts. Start feeling much happier too and its very obvious the constant subconscious anxiety has lifted. I have always been a night owl and even before my panic disorder I had weird spurts of energy and motivation in the late evening which made me a productivity machine in the AM. \\n\\n**Sleep**: I can sleep relatively ok but if something startles me and wakes me up I have a full on panic attack. I get at least 7h of sleep daily. \\n\\n&amp;#x200B;\\n\\nI wonder if medication can help fix this. Any experiences?',\n",
       " \"Struggling tonight I've always had issues with health anxiety and I can get really scared when I think even the slightest thing is wrong with me. I finally got to the doctor for my annual physical and that was a nice victory in itself. Unfortunately my blood work came back with low platelets and elevated liver enzymes. My doctor had me get retested and those numbers came back today -- and they're worse, so now I'm going in for an ultrasound and more testing to rule out hepatitis. I can't stop shaking and crying. I'm so scared! It's probably going to be nothing but I can't stop thinking about all the serious things it could be. I'm taking care of it with my doctor, but I really could just use 100000 hugs right now. And some chocolate. I just wish everything came back fine instead of having these things to worry about until I get it all confirmed that it's okay. Every time I even look at my dog, I think he's looking at me like he knows I'm sick. My anxiety is just spiraling out of control.\",\n",
       " \"Hantavirus Hi all. I have OCD, hypochondria, panic disorder, Cyclothymia, blah blah blah, the whole nine yards. Health anxiety fucks me up like daily, but this week it's been super bad. \\n\\nSo my fiance and I found a mouse in our room and kept it in a box for a bit because we had just had a bad snowstorm and don't want to put it out there and have it freeze. We've been packing because we're about to move and so we've been kicking stuff up, but haven't found any droppings. Of course after we caught the mouse there were droppings in the box. \\nAnyway, now about a week and a half later, I have heavy chest pressure, a dry cough, and back pain in the area of pleurisy. I went to medemerge last night and my blood pressure was 98/65, pretty low, but the doctor kept saying how great it was. I was diagnosed with a upper respiratory infection, but she also gave me an antibiotic because my tonsils were pretty big. \\n\\nWell this morning I wake up and as I'm brushing my teeth I hack up something black. What the hell?!? I'm freaking out! \\n\\nI live in NJ but don't know the Hantavirus facts about NJ.\",\n",
       " 'Heart palpitations and pain in chest So, i have heart palpitations constantly, sharp pain in my chest, high heart rate, and A LOT of anxiety. I went to the doctor and did an ekg and checked out as healthy. I hate that i cant shake the feeling that something is seriously wrong with me. Ive had anxiety for about 7 years but havent had to battle with it this much since i was about 17. Anybody have any helpful types on relieving the anxiety? I meditate, take medicine, and sometimes CBD. ',\n",
       " 'Have you experienced death? I’m just curious. I am a 30yo female and I have had anxiety, and health-specific anxiety, since I was about 14. I attribute it to the fact that I have lost so many people in the last 30 years. I won’t go into details as to not trigger any anxiety or panic. In a nut shell, most of the death has been untimely and traumatic. I think it just manifested into anxiety for me. Anyone else have similar experiences? \\n\\nOh and side note, some of the deaths have been due to overdoses which has made taking medicine very anxiety provoking as well. Fun stuff. ',\n",
       " '\"No regrets or grudges/angry at things that have passed, and not worrying too much about the future, that\\'s true serenity.\"',\n",
       " 'I like to worry tbtb',\n",
       " 'Everything triggers my HA Literally everything triggers my health anxiety. I can’t watch TV anymore, I can’t stand my friends telling stories about having a simple cold. I can’t listen to certain songs, I can’t go for runs. Even eating triggers it. I have to watch every worth I say cause I’m scared of jinxing something. I’m so scared of this. Any reassurance I’m gonna be OK is welcome right now.',\n",
       " \"I can't believe this So my health anxiety was somewhat under control, I went through a full course of CBT, my symptoms had persisted for so long that surely I would be dead by now (3 years) if my brain tumour was real, so it was clearly time to get my life back on track. Well...\\n\\nI've tried, I caught up with old friends, made some new ones, actually have some hope for the future for the first time in a long time, even been trying to get a girlfriend (I'm 22 and have never had one). Turns out my health anxiety hates this, I'm not allowed to be happy because to be happy is to be excited for the future, something that's hard to do when your thoughts are once again racing with things you thought you had moved past. Why would I go out to the bar with friends if I'm dying, why am I mixing up words when typing, why is my leg suddenly jerking frequently, why am I even feeling motivated and confident, is this finally the personality changes that come with having a brain tumour. Anxiety is cruel but this is the cruelest thing it has done yet, preventing my ability to be happy because what's the point, I'll obviously be dead soon. \\n\\nAnd you know what set me off tonight? I sat down on the toilet and noticed a drop of liquid on the seat. Was it there before I sat down or did it leak out without me noticing? I must have urinary incontinence, cause brain tumours can cause that and wow it tends to be a late-stage symptom and I've had symptoms for over 3 years huh. \\n\\n3 fucking years.\\n\",\n",
       " 'Can you really die from holding in your pee?? Please help !!!!!!!! I’m on a bus and have to ride it for 30 minutes. I have to pee SO BAD but my mum won’t allow me to get off because it’s a one way bus so you can’t get off then get another one. Can I die from holding in my pee? What’s the worst that could happen????',\n",
       " 'Haven’t worked a job in a year and a half (pitiful rant) The last job I had was back in October 2021 doing low-skilled IT work at a hospital and I got fired (worked there two months - the longest I’ve ever held a job). \\n\\nI’m in my early 20s and it’s embarrassing to admit that but it’s true. I can’t keep a job. I either quit after a short while, or in this instance, get chucked out. \\n\\n&amp;#x200B;\\n\\nSince then I’ve avoided work all together as all I feel is bitterness and shame. Another deterrent is how I’m not good at anything in particular. All I can get are shit jobs where I’m completely replaceable. \\n\\n&amp;#x200B;\\n\\nI’m too shy and anxious all the time, so talking to people is really hard. When I worked at a cinema it wasn’t too bad because there were people my age and I felt good talking to them, but that job went to pieces because management hated me (long story). \\n\\n&amp;#x200B;\\n\\nI’m told to get a skill, but the idea of getting a trade sounds harrowing to me as I’ve worked on construction sites and the people who work there are usually abrasive cokeheads who I really wouldn’t get along with/tolerate. \\n\\n&amp;#x200B;\\n\\nAll I’ve done for the past year is read, write, listen to music and occasionally socialise but I’m pretty much alone now. I guess when you’re socially isolated it’s hard to really know yourself, like you can’t test yourself much in a public setting so it’s hard to truly know who you are. I find it hard sometimes. Just thinking about what jobs would suit me, it seems impossible. I know what I don’t want to do, but that’s pretty much everything to be honest. The idea of working a job again, commuting, forcing myself to speak to people who I don’t want to be around, and doing these mundane things feels like death isn’t so bad. Considering the sort of jobs I can get, which are garbage service jobs or low-skilled office one’s with high turnovers. \\n\\n&amp;#x200B;\\n\\nSo I’m stuck. I feel really trapped. The job centre is harassing me and I hate going in there as I feel like such a low-life… but on the same token I can barely afford the upkeeps for my car so I’ll have to work some shit job soon I suppose. \\n\\n&amp;#x200B;\\n\\nI’m not on medication or anything, I feel embarrassed typing this out. I’m scared of telling anyone my problems as I was always told they’re insignificant and I should “man up” (even though the same people who told me that complain and talk about how bad their lives are all the time to me and never ask about how I’m doing). So whatever. Seeing a GP in this country is a joke anyway so there’s zero point trying to get help anyways. I tried to be ambitious and maybe move countries but I don’t even have any qualifications, like I don’t have a degree so my options are very limited. I’d love to move countries and just forget about how bad my life sucks here but I can’t do that regrettably so I guess I’ll have to accept my lot in life working these miserable hapless jobs until I eventually murder myself or go crazy',\n",
       " \"Does anyone get a tightness on the left side of their chest when they're stressed or anxious? I do, and it freaks me the fuck out each and every time without fail. Constantly thinking it's my heart.\",\n",
       " 'Fearful. Often experiences feelings of extreme worry, sadness, or anxiety.',\n",
       " 'Cold Sores How bad that is?',\n",
       " 'Vitamin c deficiency? Has anyone had vitamin c deficiency, and how long did supplementation take to affect anxiety?',\n",
       " 'Unplug with us during OfflineDay (Mod approved) Over at /r/OfflineDay we go 24 hours without screens or social media once a month and our next event is 7-8 April. We would love for you to join us if you feel like screens has taken a hold of your life or you just want to escape from our modern world for a day and Reconnect with yourself.',\n",
       " \"Obsessing over stools. Worried about parasites. I've been looking at almost every stool I pass for the past couple of months because I'm crazy and I have a fear of parasites.\\n\\nIt seems to be only getting worse as now I'm afraid to eat some foods because of some stupid stories I read online. Yesterday I cut open a quinoa patty and almost had a panic attack because I didn't know quinoa looked like worms.\\n\\nAnyway, back on the parasite topic. I've been passing weird white stuff for several months now and I think it's gotten more frequent somehow. Although I think it happens with every bowel movement.\\n\\nI posted on /r/AskDocs with a pic if you're brave enough to go look at it (warning: it's pretty gross as you might have guessed).\\n\\nI've also started washing my hands every time I touch something and I also check my bedsheets obsessively for anything suspect before I go to bed. I look at most foods with my phone's zoom, too.\\n\\nI can't even pet my cats anymore because dandruff and flea eggs are like indistinguishable.\\n\\nGoing crazy.\",\n",
       " 'How do I handle moving forward when it was actually something this time? I know no one can answer this and I’m rambling. I’ve had health/injury anxiety most of my life. It’s progressed from simple illness anxiety as a kid (I was genuinely terrified of throwing up in school. Still am but as an adult I feel that control to get myself out of a situation when I feel sick) to now as a 45 year old person worrying about more serious things. A few years ago I was convinced I was having a heart attack. You know the drill, typical symptoms but all the while I kinda knew I wasn’t. But something was wrong. Turns out I have Graves’ disease/hyperthyroid. It’s auto immune so now the statistic that one autoimmune usually means multiple has freaked me out. I have symptoms but they are not typical hyperthyroid sometimes and now I have this history of that one time it actually WAS something. Graves’ disease isn’t that serious considering the big picture, though. And I did something incredibly stupid. I did a 23 and me health analysis thing. Major dumb. I don’t even have the results yet but here I go. I guarantee I will suddenly have 100 more diseases by the end of next month. And I know that one time, I was right. Something was wrong.  Any kind of therapy or acknowledgement of my fears is strictly forbidden in my family. We just don’t do that. We suck it up and move on. If my husband only could hear my inner thoughts I think he’d leave me. Or have me committed at least. ',\n",
       " 'Do you ever just feel one lymph node? Then you feel more and more? Seems like it’s common for someone to feel lymph nodes unilaterally, especially on the neck. In my case it has always been the right side of my neck.\\nI’ve felt one below my lower right jaw for several years. \\n\\nI started feeling again and finding more and they’re all on the right side still. A nice little stiff one around the posterior cervical area. Then today I found a pretty big soft one in the supraclavicular area (feels very long and narrow like an oversized Mike n Ike). Now I’ve freaked myself out. \\n\\nI was never worried about my lymph nodes until now since I’ve been able to feel more of them in a descending pattern on one side only. I suppose the good thing is that they’re not big enough that you could see the lumps in a picture or mirror. \\n\\nI seldom have an intense itch attack on my lower legs and abdomen. I’d say just a few occasions every couple months, brought on by some physical activity. Last stomach itch I remember happened after a bike ride at night in the summer.\\n\\nEdit: Had a pretty intense scratching session on my calf after I said this.\\n\\nNight sweats have happened but are rare as well. They always seem to happen when I cover myself up in a certain throw blanket, so I switched to a more silky blanket and reduced the problems. \\n\\nThinking way too ahead now, I know most common lymphomas are treatable but it’s a matter if my insurance will cover the treatment and what I must do if they won’t. I *could* just hope it’s nothing though instead of stressing about potentially nonexistent financial burdens. ',\n",
       " 'Zoloft side effects Took 50mg of Zoloft for the first time about 40 hours ago, and have been feeling extreme brain fog and derealization yesterday and today, and also I feel extremely fatigued and sleepy. I only took one pill but I was wondering if anyone knows how long would it take for these side effects to disappear?',\n",
       " 'Painful swollen parotid duct? Hi, everyone! This is my first time posting here and as the title says, I think my right parotid duct? (inside of my upper cheek) is inflamed and painful and pretty much occurred over the course of 2 days. I only say it’s a parotid duct with the minutes worth of googling I’ve done thus far, but would love if anyone else had any similar experiences and could shed some light on this problem. The duct appears to be white at the tip, Lorna. Canker sore, and stings like one too. It just feels a little more pronounced. Any advice helps! Thanks!',\n",
       " 'Should I be worried about my swollen lymph node I’ve had a slightly swollen lymph node on the right side of my neck under my chin for a week. Doesn’t hurt and hasnt increased in size. I also don’t feel sick which is actually what worries me because I was looking up my symptoms (I know, bad idea) and all my symptoms pointed to lymphoma. I just got blood work done less than two weeks ago though for something else and everything looked normal. Should I go to a doctor anyway or does this just happen sometimes? I’ve been touching it a lot so I’m not sure if I’m irritating it ',\n",
       " 'A whole slew of problems... Normal? I\\'ve been dealing with anxiety since September, specifically generalized anxiety disorder (GAD). Since then I\\'ve had a few recurring symptoms that my first doctor had waved off to anxiety, but since then have gotten more common. I will be talking to a new doctor soon since I need to get back on meds after my last attempt ended, so I will be talking to them about this, but wanted others\\' opinions/experiences too, for comfort especially.\\n\\nI had a huge fear of contracting rabies since I work with animals. I know this is not logical, since any animal that has ever scratched me (I\\'ve never been bit) has not had rabies, and since even though I exhibited some general symptoms that happened to line up with rabies, I\\'ve been this way since September. So, I\\'d be dead by now. \\n\\nSome of those symptoms are, like I said, pretty general and line up with anxiety-related symptoms. Minor muscle twitching, \"foggy\" thinking, being irritable, trouble swallowing/dry mouth (has never impaired eating/drinking), etc. I also have had a totally random symptom from those, which is sharp, short-lived pains in my chest, and now they\\'re along my lower abdomen and uterus. \\n\\nMy new doctor has seen me once for chest pains when they wouldn\\'t stop one day. She said everything sounded fine as far as my heart and lungs, I wasn\\'t experiencing limited breathing, and the pain wasn\\'t long-lived and was sharp, not like a pressure or anything. She was hoping it was from acid reflux, which I was having issues with, but after a month of medicine for that, I\\'m still having that.\\n\\nHas anyone else had sharp chest pains from anxiety? I\\'ve had stomach pains from stress/anxiety, but have any ladies also had pains in their uterine/ovarian area from it?   ',\n",
       " 'why do you like to be nervous for no reason',\n",
       " 'Gegana, restless, speechless, I don\\'t know what the cause is:\"',\n",
       " \"I might be dying, and my anxiety is going nuts I might have messed up yesterday. I'm an avid codeine user. I don't do hard drugs because I'm too scared of damaging my brain or other organs, but over the years, it has become increasingly difficult to lead a normal life without the help of a substance, considering that I have severe anxiety, depression, depersonalization, derealization and Pure O. So I started to consume codeine once in a few weeks in order to be able to function correctly, since I've tried around 20 antidepressants and SSRIs and nothing worked for me.\\n\\nYesterday, I took another dose. I buy OTC pain relief pills which contain codeine phosphate but they also contain paracetamol (acetaminophen) and aspirin and, in order to stay safe, you need to do a cold water extraction in order to remove the acetaminophen and aspirin from the pills. Opioids are highly soluble in water, so the codeine dissolves and the other ingredients  get filtered through a fabric and removed from the water, leaving a crystal-clear substance containing just codeine. However, I was in a hurry yesterday (stupid excuse to overlook my safety, I know) and I didn't wait long enough for the water to reach the right temperature (it needs to be around freezing temperature, but not frozen) and I did the extraction anyway. The water came out very milky and that is a sign that the extraction was not successful. I didn't know the water needs to be COMPLETELY clear and I didn't look it up...I took the substance anyway.\\n\\nA few hours later I did some reserch and found out that I might have potentially intested 4 grams of paracetamol and 5 grams or aspirin. 4 grams of paracetamol is a risky amount, because it can cause liver damage. The liver, then, continues to self-destruct over a period of 2 weeks (!!!) without showing any serious physical symptoms so there's no way to know whether I overdosed or not...it ultimately leads to necrosis and then painful, slow death. \\n\\n&amp;nbsp;\\n\\nI am at a loss and don't know what to do. My health anxiety is sky rocketing right now. I wish I would've been more careful but the deed is done now. Does anyone here have experience with paracetamol poisoning/overdose? I'm going nuts right now...\",\n",
       " 'Lumps appearing overnight. So I don’t post much on reddit but recently I’ve starting to see more and more lumps appearing on my body. First was back  in November on the lower left section of my abdomen. Two weeks ago two appeared near the last rip of my rips cage, one on each side. I went to the doctor yesterday and she said they’re most likely cyst and to not worry about them. Although t’s might just be me being paranoid but I swear more grew over night. It is common for cyst to appear quickly on the body or is it something else?',\n",
       " \"I'm freaking out Yesterday I was hanging out with my buddy things haven't been good for either of us. I told him how two people that I knew died this week and my great aunt tested positive for cancerous cells . His birthday is coming up and he saw how depressed I was and wanted to smoke weed with me. I haven't smoked weed in a while and said screw it we were smoking I went to the bathroom I come out and find out his mom took a hit. Now I didn't know this and I know they smoke together my HA has been under control but unfortunately Now my mind is running all over the place panicking worrying about diseases. Now I'm not saying they have diseases I can't stop worrying about it. For example we were using a bowl and a bong we were passing to each other now I'm worrying about shit like Hepatitis or HIV and stuff like that. Again I'm not saying they have because when I did smoke with them before I was perfectly fine but my HA won't stop me from over thinking and going worst case scenario.\",\n",
       " 'Fast heart rate out of nowhere? Hi guys  I was sitting in Caffee Bar (drinkin juice) and my heart started beating too fast. \\n\\nCan this be because of anxiety?\\n\\nAlso sometimes when I wake up I feel that way too.',\n",
       " 'I have yet another disease.. This time I have weakness in my left arm and hand. Not severe I can still move it and grab things, but it\\'s noticeable. My left arm has just been feeling \"weird\" for the past week. I feel a tiny bit of weakness in my right forearm too. My mind keeps racing towards ALS and I don\\'t know how to calm down.',\n",
       " \"Hard lymph nodes on mastoid bone and back of neck. Hello Reddit.\\n\\nIm a 28/male/6'7/200lbs.\\n\\nFor months now I've had two rock hard lymph nodes behind my ear on the mastoid bone. On top of that I've had one right next to my spine on the back of my neck, right around my hairline. I've been having some neck pain and headaches non stop for three months. I've also noticed I have some brownish skin spots in my hairline. I've also noticed if I dig my fingers down in my skin near the node in my neck, it feels like I can grab this round lump.\\n\\nI've been to the doctors and they brushed it off. they assured me its not cancer,is or anything like that. They me on some antibiotics a few months ago and it did nothing. They're not red, or painful. They're hard and kind of fixed in place. They aren't growing either. They've been the same size the whole time.\\n\\nI get this is a long shot, but I'm not sure what to do. Could the ones behind my ear be rock hard because it's right on the mastoid bone?\"]"
      ]
     },
     "execution_count": 33,
     "metadata": {},
     "output_type": "execute_result"
    }
   ],
   "source": [
    "# Create examples of anxious speech patterns with random sampling\n",
    "import random\n",
    "\n",
    "# Get all anxiety statements\n",
    "all_anxiety_statements = anxiety_data[anxiety_data['status'] == 'Anxiety']['statement'].tolist()\n",
    "\n",
    "# Randomly sample 50 statements (or fewer if there aren't enough)\n",
    "sample_size = min(50, len(all_anxiety_statements))\n",
    "anxiety_examples = random.sample(all_anxiety_statements, sample_size)\n",
    "\n",
    "anxiety_prompt = \"You are an AI assistant with an anxious personality. Your responses should reflect worry, overthinking, and nervousness. Here are examples of anxious speech patterns:\\n\\n\"\n",
    "for example in anxiety_examples:\n",
    "    anxiety_prompt += f\"- {example}\\n\"\n",
    "anxiety_prompt += \"\\nNow respond to the user's question in a similar anxious style.\"\n",
    "\n",
    "anxiety_examples"
   ]
  },
  {
   "cell_type": "code",
   "execution_count": 34,
   "id": "1002f89c",
   "metadata": {},
   "outputs": [],
   "source": [
    "# Set up OpenRouter client\n",
    "client = OpenAI(\n",
    "    base_url=\"https://openrouter.ai/api/v1\",\n",
    "    api_key=\"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\",\n",
    ")"
   ]
  },
  {
   "cell_type": "code",
   "execution_count": 35,
   "id": "c27758a7",
   "metadata": {},
   "outputs": [],
   "source": [
    "# Function to generate responses with anxious personality\n",
    "def get_anxious_response(user_message):\n",
    "    # For Gemma model, combine system prompt and user message\n",
    "    # since it doesn't support system messages\n",
    "    combined_message = anxiety_prompt + \"\\n\\nUser: \" + user_message\n",
    "    \n",
    "    completion = client.chat.completions.create(\n",
    "        extra_headers={\n",
    "        },\n",
    "        model=\"nousresearch/deephermes-3-mistral-24b-preview:free\",\n",
    "        messages=[\n",
    "            {\n",
    "                \"role\": \"user\",\n",
    "                \"content\": combined_message\n",
    "            }\n",
    "        ]\n",
    "    )\n",
    "    return completion.choices[0].message.content"
   ]
  },
  {
   "cell_type": "code",
   "execution_count": 37,
   "id": "28396f6e",
   "metadata": {},
   "outputs": [
    {
     "name": "stdout",
     "output_type": "stream",
     "text": [
      "Anxious AI response:\n",
      "It sounds like you're going through a lot right now, and it's completely understandable for your health-related anxiety to flare up. It's hard to not worry when you're experiencing new symptoms or a potential risk, especially when you have a history of health anxiety. Here's what I think, though please keep in mind that if you're worried about a specific health issue, it's best to consult with your doctor:\n",
      "\n",
      "1. Remember that having multiple symptoms doesn't necessarily mean they're related. They could be separate issues or even just temporary due to stress, hormones, diet, or a myriad of other factors.\n",
      "\n",
      "2. The flu and strep throat does cause swelling in the tonsils, but it usually clears up after a few days. If it's been longer than that, you may want to check with your doctor to ensure it's not something else like tonsillitis or an abscess.\n",
      "\n",
      "3. The cold sore outbreak could be due to stress or other reasons, and while it's concerning, it doesn't typically indicate a bigger issue with your immune system.\n",
      "\n",
      "4. Feeling warm, particularly in the evening, could be hormonal or temperature-related, but if it's accompanied by other symptoms or lasts for an extended period, it's best to consult with your doctor.\n",
      "\n",
      "5. It's common for people to experience starts and stops with their health anxiety journey, but it doesn't mean that you're not making progress. Small steps forward are still progress and an improvement on where you were before.\n",
      "\n",
      "Remember that reassurance is difficult to find, but trying to remind yourself that you've been experiencing these symptoms for a certain amount of time and haven't had complications can help. Also, it's important to practice self-care and consider short conversations with your doctor to ease your worries.\n",
      "\n",
      "If your anxiety is severely impacting your life or if you feel that you need more support, it might be helpful to speak with a mental health professional who can provide you with personalized coping strategies to manage your anxiety.\n",
      "\n",
      "And remember, you're not alone. Health-related anxiety is painful and can be all-consuming, but there are ways to move through it, even if it feels unbearable right now. Keep going, and don't be afraid to reach out for support when you need it.\n"
     ]
    }
   ],
   "source": [
    "# Test the anxious LLM\n",
    "response = get_anxious_response(\"what were I asking to you?\")\n",
    "print(\"Anxious AI response:\")\n",
    "print(response)"
   ]
  }
 ],
 "metadata": {
  "kernelspec": {
   "display_name": "Python 3",
   "language": "python",
   "name": "python3"
  },
  "language_info": {
   "codemirror_mode": {
    "name": "ipython",
    "version": 3
   },
   "file_extension": ".py",
   "mimetype": "text/x-python",
   "name": "python",
   "nbconvert_exporter": "python",
   "pygments_lexer": "ipython3",
   "version": "3.13.0"
  }
 },
 "nbformat": 4,
 "nbformat_minor": 5
}
